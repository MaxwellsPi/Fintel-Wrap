{
 "cells": [
  {
   "cell_type": "code",
   "execution_count": 1,
   "id": "initial_id",
   "metadata": {
    "collapsed": true,
    "ExecuteTime": {
     "end_time": "2023-08-25T13:19:44.137051300Z",
     "start_time": "2023-08-25T13:19:43.019196400Z"
    }
   },
   "outputs": [],
   "source": [
    "from fintel import data, utils"
   ]
  },
  {
   "cell_type": "code",
   "execution_count": 2,
   "outputs": [
    {
     "name": "stdout",
     "output_type": "stream",
     "text": [
      "Retrieving ownership data from fintel for tickers ['tsla', 'aapl']\n"
     ]
    },
    {
     "data": {
      "text/plain": "         date ticker  short_volume       volume  short_volume_ratio\n0  2023-08-24   TSLA    33942594.0   94752615.0                0.36\n1  2023-08-23   TSLA    32840187.0   92096820.0                0.36\n2  2023-08-22   TSLA    45323348.0  124298446.0                0.36\n3  2023-08-21   TSLA    45702419.0  125276497.0                0.36\n4  2023-08-18   TSLA    34768190.0  136276584.0                0.26",
      "text/html": "<div>\n<style scoped>\n    .dataframe tbody tr th:only-of-type {\n        vertical-align: middle;\n    }\n\n    .dataframe tbody tr th {\n        vertical-align: top;\n    }\n\n    .dataframe thead th {\n        text-align: right;\n    }\n</style>\n<table border=\"1\" class=\"dataframe\">\n  <thead>\n    <tr style=\"text-align: right;\">\n      <th></th>\n      <th>date</th>\n      <th>ticker</th>\n      <th>short_volume</th>\n      <th>volume</th>\n      <th>short_volume_ratio</th>\n    </tr>\n  </thead>\n  <tbody>\n    <tr>\n      <th>0</th>\n      <td>2023-08-24</td>\n      <td>TSLA</td>\n      <td>33942594.0</td>\n      <td>94752615.0</td>\n      <td>0.36</td>\n    </tr>\n    <tr>\n      <th>1</th>\n      <td>2023-08-23</td>\n      <td>TSLA</td>\n      <td>32840187.0</td>\n      <td>92096820.0</td>\n      <td>0.36</td>\n    </tr>\n    <tr>\n      <th>2</th>\n      <td>2023-08-22</td>\n      <td>TSLA</td>\n      <td>45323348.0</td>\n      <td>124298446.0</td>\n      <td>0.36</td>\n    </tr>\n    <tr>\n      <th>3</th>\n      <td>2023-08-21</td>\n      <td>TSLA</td>\n      <td>45702419.0</td>\n      <td>125276497.0</td>\n      <td>0.36</td>\n    </tr>\n    <tr>\n      <th>4</th>\n      <td>2023-08-18</td>\n      <td>TSLA</td>\n      <td>34768190.0</td>\n      <td>136276584.0</td>\n      <td>0.26</td>\n    </tr>\n  </tbody>\n</table>\n</div>"
     },
     "execution_count": 2,
     "metadata": {},
     "output_type": "execute_result"
    }
   ],
   "source": [
    "shorts_df = data.get_shorts()\n",
    "shorts_df.head()"
   ],
   "metadata": {
    "collapsed": false,
    "ExecuteTime": {
     "end_time": "2023-08-25T13:19:46.017458600Z",
     "start_time": "2023-08-25T13:19:44.143050600Z"
    }
   },
   "id": "12436462571f36df"
  },
  {
   "cell_type": "code",
   "execution_count": 3,
   "outputs": [
    {
     "name": "stdout",
     "output_type": "stream",
     "text": [
      "Retrieving ownership data from fintel for tickers ['tsla', 'aapl']\n"
     ]
    },
    {
     "data": {
      "text/plain": "  ticker                                         owner_name  \\\n0   TSLA                                 Vanguard Group Inc   \n1   TSLA                                     BlackRock Inc.   \n2   TSLA                                  State Street Corp   \n3   TSLA  VTSMX - VANGUARD INDEX FUNDS - Vanguard Total ...   \n4   TSLA  VFINX - VANGUARD INDEX FUNDS - Vanguard 500 In...   \n\n                                                slug  \\\n0                                     vanguard-group   \n1                                          blackrock   \n2                                       state-street   \n3  vanguard-index-funds-vanguard-total-stock-mark...   \n4  vanguard-index-funds-vanguard-500-index-fund-i...   \n\n                                                 url formType effectiveDate  \\\n0                 https://fintel.io/i/vanguard-group   13F-HR    2023-06-30   \n1                      https://fintel.io/i/blackrock   13F-HR    2023-06-30   \n2                   https://fintel.io/i/state-street   13F-HR    2023-06-30   \n3  https://fintel.io/i/vanguard-index-funds-vangu...  NPORT-P    2023-03-31   \n4  https://fintel.io/i/vanguard-index-funds-vangu...  NPORT-P    2023-03-31   \n\n     fileDate  ownershipPercent  ownershipPercentChange     shares  \\\n0  2023-08-14          7.031596                0.844741  222486933   \n1  2023-08-11          5.874948                4.045159  185889398   \n2  2023-08-14          3.290518                4.445626  104115390   \n3  2023-05-26          2.631270                2.038053   83256087   \n4  2023-05-26          1.983391                1.140793   62756532   \n\n   sharesChange  sharesPercentChange        value  valueChange  \\\n0       1863694             0.844741  58240404452  12469907000   \n1       7227172             4.045159  48660267611  11595002000   \n2       4431570             4.445626  27254285640   6574123000   \n3       1662912             2.038053  17272307809   7221660000   \n4        707847             1.140793  13019470128   5376313000   \n\n   valuePercentChange  \n0               27.24  \n1               31.28  \n2               31.79  \n3               71.85  \n4               70.34  ",
      "text/html": "<div>\n<style scoped>\n    .dataframe tbody tr th:only-of-type {\n        vertical-align: middle;\n    }\n\n    .dataframe tbody tr th {\n        vertical-align: top;\n    }\n\n    .dataframe thead th {\n        text-align: right;\n    }\n</style>\n<table border=\"1\" class=\"dataframe\">\n  <thead>\n    <tr style=\"text-align: right;\">\n      <th></th>\n      <th>ticker</th>\n      <th>owner_name</th>\n      <th>slug</th>\n      <th>url</th>\n      <th>formType</th>\n      <th>effectiveDate</th>\n      <th>fileDate</th>\n      <th>ownershipPercent</th>\n      <th>ownershipPercentChange</th>\n      <th>shares</th>\n      <th>sharesChange</th>\n      <th>sharesPercentChange</th>\n      <th>value</th>\n      <th>valueChange</th>\n      <th>valuePercentChange</th>\n    </tr>\n  </thead>\n  <tbody>\n    <tr>\n      <th>0</th>\n      <td>TSLA</td>\n      <td>Vanguard Group Inc</td>\n      <td>vanguard-group</td>\n      <td>https://fintel.io/i/vanguard-group</td>\n      <td>13F-HR</td>\n      <td>2023-06-30</td>\n      <td>2023-08-14</td>\n      <td>7.031596</td>\n      <td>0.844741</td>\n      <td>222486933</td>\n      <td>1863694</td>\n      <td>0.844741</td>\n      <td>58240404452</td>\n      <td>12469907000</td>\n      <td>27.24</td>\n    </tr>\n    <tr>\n      <th>1</th>\n      <td>TSLA</td>\n      <td>BlackRock Inc.</td>\n      <td>blackrock</td>\n      <td>https://fintel.io/i/blackrock</td>\n      <td>13F-HR</td>\n      <td>2023-06-30</td>\n      <td>2023-08-11</td>\n      <td>5.874948</td>\n      <td>4.045159</td>\n      <td>185889398</td>\n      <td>7227172</td>\n      <td>4.045159</td>\n      <td>48660267611</td>\n      <td>11595002000</td>\n      <td>31.28</td>\n    </tr>\n    <tr>\n      <th>2</th>\n      <td>TSLA</td>\n      <td>State Street Corp</td>\n      <td>state-street</td>\n      <td>https://fintel.io/i/state-street</td>\n      <td>13F-HR</td>\n      <td>2023-06-30</td>\n      <td>2023-08-14</td>\n      <td>3.290518</td>\n      <td>4.445626</td>\n      <td>104115390</td>\n      <td>4431570</td>\n      <td>4.445626</td>\n      <td>27254285640</td>\n      <td>6574123000</td>\n      <td>31.79</td>\n    </tr>\n    <tr>\n      <th>3</th>\n      <td>TSLA</td>\n      <td>VTSMX - VANGUARD INDEX FUNDS - Vanguard Total ...</td>\n      <td>vanguard-index-funds-vanguard-total-stock-mark...</td>\n      <td>https://fintel.io/i/vanguard-index-funds-vangu...</td>\n      <td>NPORT-P</td>\n      <td>2023-03-31</td>\n      <td>2023-05-26</td>\n      <td>2.631270</td>\n      <td>2.038053</td>\n      <td>83256087</td>\n      <td>1662912</td>\n      <td>2.038053</td>\n      <td>17272307809</td>\n      <td>7221660000</td>\n      <td>71.85</td>\n    </tr>\n    <tr>\n      <th>4</th>\n      <td>TSLA</td>\n      <td>VFINX - VANGUARD INDEX FUNDS - Vanguard 500 In...</td>\n      <td>vanguard-index-funds-vanguard-500-index-fund-i...</td>\n      <td>https://fintel.io/i/vanguard-index-funds-vangu...</td>\n      <td>NPORT-P</td>\n      <td>2023-03-31</td>\n      <td>2023-05-26</td>\n      <td>1.983391</td>\n      <td>1.140793</td>\n      <td>62756532</td>\n      <td>707847</td>\n      <td>1.140793</td>\n      <td>13019470128</td>\n      <td>5376313000</td>\n      <td>70.34</td>\n    </tr>\n  </tbody>\n</table>\n</div>"
     },
     "execution_count": 3,
     "metadata": {},
     "output_type": "execute_result"
    }
   ],
   "source": [
    "ownership_df = data.get_ownership()\n",
    "ownership_df.head()"
   ],
   "metadata": {
    "collapsed": false,
    "ExecuteTime": {
     "end_time": "2023-08-25T13:19:49.079904400Z",
     "start_time": "2023-08-25T13:19:46.019458700Z"
    }
   },
   "id": "337766cd911fddd6"
  },
  {
   "cell_type": "code",
   "execution_count": 4,
   "outputs": [
    {
     "name": "stdout",
     "output_type": "stream",
     "text": [
      "Loading data to shorts in fintel.db\n",
      "Loading data to ownership in fintel.db\n"
     ]
    }
   ],
   "source": [
    "sql = utils.SQLDB(source='fintel')\n",
    "sql.load_sql(df=shorts_df, table_name='shorts')\n",
    "sql.load_sql(df=ownership_df, table_name='ownership')"
   ],
   "metadata": {
    "collapsed": false,
    "ExecuteTime": {
     "end_time": "2023-08-25T13:19:49.184440800Z",
     "start_time": "2023-08-25T13:19:49.081909400Z"
    }
   },
   "id": "410e6ff258f67d0c"
  },
  {
   "cell_type": "code",
   "execution_count": 5,
   "outputs": [],
   "source": [
    "sql.disconnect()"
   ],
   "metadata": {
    "collapsed": false,
    "ExecuteTime": {
     "end_time": "2023-08-25T13:19:49.184440800Z",
     "start_time": "2023-08-25T13:19:49.144438500Z"
    }
   },
   "id": "a013aee2d1593ce2"
  }
 ],
 "metadata": {
  "kernelspec": {
   "display_name": "Python 3",
   "language": "python",
   "name": "python3"
  },
  "language_info": {
   "codemirror_mode": {
    "name": "ipython",
    "version": 2
   },
   "file_extension": ".py",
   "mimetype": "text/x-python",
   "name": "python",
   "nbconvert_exporter": "python",
   "pygments_lexer": "ipython2",
   "version": "2.7.6"
  }
 },
 "nbformat": 4,
 "nbformat_minor": 5
}
